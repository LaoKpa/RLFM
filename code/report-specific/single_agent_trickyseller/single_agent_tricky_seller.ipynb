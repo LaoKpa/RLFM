{
 "cells": [
  {
   "cell_type": "code",
   "execution_count": 1,
   "metadata": {},
   "outputs": [],
   "source": [
    "import pandas as pd\n",
    "import numpy as np\n",
    "import matplotlib.pyplot as plt\n",
    "\n",
    "import warnings\n",
    "warnings.filterwarnings('ignore')\n",
    "\n",
    "from stable_baselines import DQN\n",
    "from stable_baselines.common.vec_env import DummyVecEnv\n",
    "\n",
    "from dmarket.environments import SingleAgentTrainingEnv\n",
    "from dmarket.agents import UniformRandomAgent, GymRLAgent, TimeLinearAgent, TimeDependentAgent\n",
    "from dmarket.info_settings import OfferInformationSetting, TimeInformationWrapper"
   ]
  },
  {
   "cell_type": "markdown",
   "metadata": {},
   "source": [
    "Consider a simple memory-based seller. The seller offers in the interval ``[50, 100]`` and has the following strategy. If he sees that someone is bidding above 90, he will increase ``count`` by one in his internal memory. He will then offer ``100 - count``. If, however, during some round ``count >= 3``, then he will throw a large discount and offer to sell at 50."
   ]
  },
  {
   "cell_type": "code",
   "execution_count": 2,
   "metadata": {},
   "outputs": [],
   "source": [
    "class TrickySeller(TimeDependentAgent):\n",
    "    def compute_offer(self, obs, time):\n",
    "        if time == 0:\n",
    "            self.count = 0\n",
    "            \n",
    "        if self.count >= 3:\n",
    "            # DISCOUNT TIME!!!\n",
    "            return 50\n",
    "        else:\n",
    "            best_bid = obs[0][0]\n",
    "            if best_bid >= 90:\n",
    "                self.count += 1\n",
    "            return 100 - self.count"
   ]
  },
  {
   "cell_type": "markdown",
   "metadata": {},
   "source": [
    "Set up environment for baselines training!"
   ]
  },
  {
   "cell_type": "code",
   "execution_count": 3,
   "metadata": {},
   "outputs": [],
   "source": [
    "rl_agent = GymRLAgent('buyer', 100, 'B1', max_factor=0.5, discretization=10)\n",
    "\n",
    "fixed_agents = [\n",
    "    TrickySeller('seller', 50,  'TS')\n",
    "]\n",
    "\n",
    "setting = TimeInformationWrapper(OfferInformationSetting(1))\n",
    "\n",
    "def get_env(rl_agent, fixed_agents, setting):\n",
    "    return SingleAgentTrainingEnv(rl_agent, fixed_agents, setting)\n",
    "\n",
    "env = DummyVecEnv([lambda: get_env(rl_agent, fixed_agents, setting)]) # wrap it for baselines"
   ]
  },
  {
   "cell_type": "markdown",
   "metadata": {},
   "source": [
    "Since the RL-agent has a discrete action space (integers from 0 to 9 inclusive), let's see what prices RL agent can offer:"
   ]
  },
  {
   "cell_type": "code",
   "execution_count": 4,
   "metadata": {},
   "outputs": [
    {
     "data": {
      "text/plain": [
       "[(0, 100.0),\n",
       " (1, 95.0),\n",
       " (2, 90.0),\n",
       " (3, 85.0),\n",
       " (4, 80.0),\n",
       " (5, 75.0),\n",
       " (6, 70.0),\n",
       " (7, 65.0),\n",
       " (8, 60.0),\n",
       " (9, 55.0)]"
      ]
     },
     "execution_count": 4,
     "metadata": {},
     "output_type": "execute_result"
    }
   ],
   "source": [
    "[(action, rl_agent.action_to_price(action)) for action in range(rl_agent.discretization)]"
   ]
  },
  {
   "cell_type": "markdown",
   "metadata": {},
   "source": [
    "Hence, the maximal reward the agent can get is 47.5. To do this, he needs to follow the following sequence: offer 3 times 95 to trigger the seller and then offer 55. At the last step, the seller will offer 50, so the midprice would be 52.5."
   ]
  },
  {
   "cell_type": "markdown",
   "metadata": {},
   "source": [
    "Let's see if the DQN algorithm can learn this simple policy. **Note: the RL agent will not be able to access the time information, only the last best offers**. The seller will signal how long until it will drop the price by 50.\n",
    "\n",
    "We will set the algorithm to do a lot of exploration: anywhere between 30% to 50% of the time it will do something random. The discount rate is set to 90%, so that the agent is pushed to quickly trigger the correct sequence to obtain the reward."
   ]
  },
  {
   "cell_type": "code",
   "execution_count": 5,
   "metadata": {},
   "outputs": [
    {
     "name": "stdout",
     "output_type": "stream",
     "text": [
      "WARNING:tensorflow:From /home/zhs/docs/abm/env/lib/python3.7/site-packages/stable_baselines/common/tf_util.py:57: The name tf.ConfigProto is deprecated. Please use tf.compat.v1.ConfigProto instead.\n",
      "\n",
      "WARNING:tensorflow:From /home/zhs/docs/abm/env/lib/python3.7/site-packages/stable_baselines/common/tf_util.py:66: The name tf.Session is deprecated. Please use tf.compat.v1.Session instead.\n",
      "\n",
      "WARNING:tensorflow:From /home/zhs/docs/abm/env/lib/python3.7/site-packages/stable_baselines/deepq/dqn.py:122: The name tf.train.AdamOptimizer is deprecated. Please use tf.compat.v1.train.AdamOptimizer instead.\n",
      "\n",
      "WARNING:tensorflow:From /home/zhs/docs/abm/env/lib/python3.7/site-packages/stable_baselines/deepq/build_graph.py:358: The name tf.variable_scope is deprecated. Please use tf.compat.v1.variable_scope instead.\n",
      "\n",
      "WARNING:tensorflow:From /home/zhs/docs/abm/env/lib/python3.7/site-packages/stable_baselines/deepq/build_graph.py:359: The name tf.placeholder is deprecated. Please use tf.compat.v1.placeholder instead.\n",
      "\n",
      "WARNING:tensorflow:From /home/zhs/docs/abm/env/lib/python3.7/site-packages/stable_baselines/deepq/build_graph.py:139: The name tf.get_variable is deprecated. Please use tf.compat.v1.get_variable instead.\n",
      "\n",
      "WARNING:tensorflow:From /home/zhs/docs/abm/env/lib/python3.7/site-packages/stable_baselines/deepq/policies.py:109: flatten (from tensorflow.python.layers.core) is deprecated and will be removed in a future version.\n",
      "Instructions for updating:\n",
      "Use keras.layers.flatten instead.\n",
      "WARNING:tensorflow:From /home/zhs/docs/abm/env/lib/python3.7/site-packages/stable_baselines/deepq/build_graph.py:149: add_dispatch_support.<locals>.wrapper (from tensorflow.python.ops.array_ops) is deprecated and will be removed in a future version.\n",
      "Instructions for updating:\n",
      "Use tf.where in 2.0, which has the same broadcast rule as np.where\n",
      "WARNING:tensorflow:From /home/zhs/docs/abm/env/lib/python3.7/site-packages/stable_baselines/deepq/build_graph.py:415: The name tf.summary.scalar is deprecated. Please use tf.compat.v1.summary.scalar instead.\n",
      "\n",
      "WARNING:tensorflow:From /home/zhs/docs/abm/env/lib/python3.7/site-packages/stable_baselines/deepq/build_graph.py:449: The name tf.summary.merge_all is deprecated. Please use tf.compat.v1.summary.merge_all instead.\n",
      "\n"
     ]
    }
   ],
   "source": [
    "model = DQN(\"LnMlpPolicy\", env, verbose=1, \n",
    "            gamma=0.90, exploration_fraction=0.5,\n",
    "            exploration_final_eps=0.3,\n",
    "            prioritized_replay=True)"
   ]
  },
  {
   "cell_type": "markdown",
   "metadata": {},
   "source": [
    "Learn for 10000 steps, which should take about a minute, and we keep track of the episodes and rewards."
   ]
  },
  {
   "cell_type": "code",
   "execution_count": 6,
   "metadata": {},
   "outputs": [],
   "source": [
    "episodes = []\n",
    "rewards = []\n",
    "def log_rewards(lvar, gvar):\n",
    "    try:\n",
    "        ep = lvar['num_episodes']\n",
    "        if ep >= 10000: return False\n",
    "        if ep % 100 == 0:\n",
    "            rewards.append(lvar['mean_100ep_reward'])\n",
    "            episodes.append(lvar['num_episodes'])\n",
    "    except KeyError:\n",
    "        return True\n",
    "    return True"
   ]
  },
  {
   "cell_type": "code",
   "execution_count": 7,
   "metadata": {},
   "outputs": [
    {
     "name": "stdout",
     "output_type": "stream",
     "text": [
      "--------------------------------------\n",
      "| % time spent exploring  | 90       |\n",
      "| episodes                | 100      |\n",
      "| mean 100 episode reward | 9.4      |\n",
      "| steps                   | 664      |\n",
      "--------------------------------------\n",
      "--------------------------------------\n",
      "| % time spent exploring  | 82       |\n",
      "| episodes                | 200      |\n",
      "| mean 100 episode reward | 6.4      |\n",
      "| steps                   | 1270     |\n",
      "--------------------------------------\n",
      "--------------------------------------\n",
      "| % time spent exploring  | 76       |\n",
      "| episodes                | 300      |\n",
      "| mean 100 episode reward | 3.7      |\n",
      "| steps                   | 1714     |\n",
      "--------------------------------------\n",
      "--------------------------------------\n",
      "| % time spent exploring  | 68       |\n",
      "| episodes                | 400      |\n",
      "| mean 100 episode reward | 10.3     |\n",
      "| steps                   | 2261     |\n",
      "--------------------------------------\n",
      "--------------------------------------\n",
      "| % time spent exploring  | 59       |\n",
      "| episodes                | 500      |\n",
      "| mean 100 episode reward | 19.5     |\n",
      "| steps                   | 2865     |\n",
      "--------------------------------------\n",
      "--------------------------------------\n",
      "| % time spent exploring  | 51       |\n",
      "| episodes                | 600      |\n",
      "| mean 100 episode reward | 29.6     |\n",
      "| steps                   | 3489     |\n",
      "--------------------------------------\n",
      "--------------------------------------\n",
      "| % time spent exploring  | 42       |\n",
      "| episodes                | 700      |\n",
      "| mean 100 episode reward | 34.9     |\n",
      "| steps                   | 4073     |\n",
      "--------------------------------------\n",
      "--------------------------------------\n",
      "| % time spent exploring  | 34       |\n",
      "| episodes                | 800      |\n",
      "| mean 100 episode reward | 35.3     |\n",
      "| steps                   | 4665     |\n",
      "--------------------------------------\n",
      "--------------------------------------\n",
      "| % time spent exploring  | 30       |\n",
      "| episodes                | 900      |\n",
      "| mean 100 episode reward | 37.9     |\n",
      "| steps                   | 5214     |\n",
      "--------------------------------------\n",
      "--------------------------------------\n",
      "| % time spent exploring  | 30       |\n",
      "| episodes                | 1000     |\n",
      "| mean 100 episode reward | 36.9     |\n",
      "| steps                   | 5753     |\n",
      "--------------------------------------\n",
      "--------------------------------------\n",
      "| % time spent exploring  | 30       |\n",
      "| episodes                | 1100     |\n",
      "| mean 100 episode reward | 38.4     |\n",
      "| steps                   | 6276     |\n",
      "--------------------------------------\n",
      "--------------------------------------\n",
      "| % time spent exploring  | 30       |\n",
      "| episodes                | 1200     |\n",
      "| mean 100 episode reward | 37.1     |\n",
      "| steps                   | 6810     |\n",
      "--------------------------------------\n",
      "--------------------------------------\n",
      "| % time spent exploring  | 30       |\n",
      "| episodes                | 1300     |\n",
      "| mean 100 episode reward | 37.8     |\n",
      "| steps                   | 7342     |\n",
      "--------------------------------------\n",
      "--------------------------------------\n",
      "| % time spent exploring  | 30       |\n",
      "| episodes                | 1400     |\n",
      "| mean 100 episode reward | 37.2     |\n",
      "| steps                   | 7884     |\n",
      "--------------------------------------\n",
      "--------------------------------------\n",
      "| % time spent exploring  | 30       |\n",
      "| episodes                | 1500     |\n",
      "| mean 100 episode reward | 39.4     |\n",
      "| steps                   | 8417     |\n",
      "--------------------------------------\n",
      "--------------------------------------\n",
      "| % time spent exploring  | 30       |\n",
      "| episodes                | 1600     |\n",
      "| mean 100 episode reward | 37.2     |\n",
      "| steps                   | 8944     |\n",
      "--------------------------------------\n",
      "--------------------------------------\n",
      "| % time spent exploring  | 30       |\n",
      "| episodes                | 1700     |\n",
      "| mean 100 episode reward | 39.4     |\n",
      "| steps                   | 9490     |\n",
      "--------------------------------------\n",
      "CPU times: user 1min 49s, sys: 4.56 s, total: 1min 53s\n",
      "Wall time: 1min 9s\n"
     ]
    },
    {
     "data": {
      "text/plain": [
       "<stable_baselines.deepq.dqn.DQN at 0x7ff1040a9890>"
      ]
     },
     "execution_count": 7,
     "metadata": {},
     "output_type": "execute_result"
    }
   ],
   "source": [
    "%%time\n",
    "model.learn(total_timesteps=10000, callback=log_rewards)"
   ]
  },
  {
   "cell_type": "markdown",
   "metadata": {},
   "source": [
    "## Plot training data"
   ]
  },
  {
   "cell_type": "code",
   "execution_count": 8,
   "metadata": {},
   "outputs": [],
   "source": [
    "df = pd.DataFrame(rewards, index=episodes)\n",
    "df.index.name = 'Episodes'\n",
    "df.columns = ['Mean Rewards']"
   ]
  },
  {
   "cell_type": "code",
   "execution_count": 9,
   "metadata": {},
   "outputs": [],
   "source": [
    "import sys\n",
    "sys.path.append(\"..\")\n",
    "from plot_config import *"
   ]
  },
  {
   "cell_type": "code",
   "execution_count": 15,
   "metadata": {},
   "outputs": [
    {
     "data": {
      "image/png": "[encoded data removed]",
      "text/plain": [
       "<Figure size 343.778x216 with 1 Axes>"
      ]
     },
     "metadata": {
      "needs_background": "light"
     },
     "output_type": "display_data"
    }
   ],
   "source": [
    "fig, ax = plt.subplots(1)\n",
    "df.plot(ax=ax, legend=False)\n",
    "ax.set(ylabel=\"Mean 100 episode rewards\")\n",
    "fig.set_size_inches(w=4.7747, h=3.)\n"
   ]
  },
  {
   "cell_type": "code",
   "execution_count": 16,
   "metadata": {},
   "outputs": [],
   "source": [
    "fig.savefig('single_agent_trickyseller_train.pgf')"
   ]
  },
  {
   "cell_type": "code",
   "execution_count": 12,
   "metadata": {},
   "outputs": [],
   "source": [
    "def plot_transition(agent, fig, ax):\n",
    "    data = []\n",
    "    for price in range(100, 50, -1):\n",
    "        data.append(agent.model.action_probability(\n",
    "            rl_agent.normalize(np.array([\n",
    "                [0],\n",
    "                [price],\n",
    "            ])\n",
    "        )))\n",
    "    prices = list(range(100, 50, -1))\n",
    "    df = pd.DataFrame(data, index=prices)\n",
    "    min_offer = agent._a\n",
    "    max_offer = agent._b\n",
    "    im = ax.imshow(np.array(data), extent=[max_offer, min_offer, min_offer, max_offer])\n",
    "    ax.set(xlabel='Next offer probability')\n",
    "    ax.set(ylabel='Best last ask')\n",
    "    fig.colorbar(im)\n",
    "    fig.set_size_inches(w=4.7747, h=3.)"
   ]
  },
  {
   "cell_type": "code",
   "execution_count": 13,
   "metadata": {},
   "outputs": [
    {
     "data": {
      "image/png": "[encoded data removed]",
      "text/plain": [
       "<Figure size 343.778x216 with 2 Axes>"
      ]
     },
     "metadata": {
      "needs_background": "light"
     },
     "output_type": "display_data"
    }
   ],
   "source": [
    "rl_agent.model = model\n",
    "fig, ax = plt.subplots(1)\n",
    "#df.plot(ax=ax, legend=False)\n",
    "plot_transition(rl_agent, fig, ax)\n",
    "plt.savefig('single_agent_trickyseller_qtable.pgf')"
   ]
  },
  {
   "cell_type": "code",
   "execution_count": null,
   "metadata": {},
   "outputs": [],
   "source": []
  }
 ],
 "metadata": {
  "kernelspec": {
   "display_name": "abm",
   "language": "python",
   "name": "abm"
  },
  "language_info": {
   "codemirror_mode": {
    "name": "ipython",
    "version": 3
   },
   "file_extension": ".py",
   "mimetype": "text/x-python",
   "name": "python",
   "nbconvert_exporter": "python",
   "pygments_lexer": "ipython3",
   "version": "3.7.4"
  }
 },
 "nbformat": 4,
 "nbformat_minor": 2
}
