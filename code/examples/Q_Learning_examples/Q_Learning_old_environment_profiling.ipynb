{
 "cells": [
  {
   "cell_type": "markdown",
   "metadata": {},
   "source": [
    "Make our custom modules available to numpy\n"
   ]
  },
  {
   "cell_type": "code",
   "execution_count": 1,
   "metadata": {},
   "outputs": [],
   "source": [
    "import sys\n",
    "sys.path.append('.')"
   ]
  },
  {
   "cell_type": "markdown",
   "metadata": {},
   "source": [
    "Load some generic libraries\n"
   ]
  },
  {
   "cell_type": "code",
   "execution_count": 2,
   "metadata": {},
   "outputs": [],
   "source": [
    "import pandas as pd\n",
    "import numpy as np\n",
    "import warnings\n",
    "import random\n",
    "import time\n",
    "# pandas setting warnings can be ignored, as it is intendend often\n",
    "warnings.simplefilter(\"ignore\")"
   ]
  },
  {
   "cell_type": "code",
   "execution_count": 3,
   "metadata": {},
   "outputs": [],
   "source": [
    "import matplotlib.pyplot as plt "
   ]
  },
  {
   "cell_type": "markdown",
   "metadata": {},
   "source": [
    "Load the custom modules\n"
   ]
  },
  {
   "cell_type": "code",
   "execution_count": 4,
   "metadata": {},
   "outputs": [],
   "source": [
    "from agents import Buyer, Seller\n",
    "from environments import MarketEnvironment\n",
    "from automatic_agents import SpecialRandomSeller, SpecialRandomBuyer\n",
    "from rl_agents import RLSeller"
   ]
  },
  {
   "cell_type": "markdown",
   "metadata": {},
   "source": [
    "Let's meet our agents\n",
    "The cost or budget for sellers and buyers, is also referred to as reservation price in general.\n",
    "\n",
    "Sellers first:"
   ]
  },
  {
   "cell_type": "code",
   "execution_count": 5,
   "metadata": {},
   "outputs": [],
   "source": [
    "cost = 100\n",
    "\n",
    "ali = RLSeller('Seller Ali', cost)\n",
    "mehmet = SpecialRandomSeller('Seller Mehmet', cost)\n",
    "ahmet = SpecialRandomSeller('Seller Ahmet', cost)\n",
    "ayse = SpecialRandomSeller('Seller Ayse', cost)\n",
    "fatma = SpecialRandomSeller('Seller Fatma', cost)\n",
    "\n",
    "sellers = [ali,mehmet,ahmet,ayse,fatma]\n",
    "\n",
    "# in order to update them in the for loop\n",
    "other_sellers = [mehmet,ahmet,ayse,fatma]"
   ]
  },
  {
   "cell_type": "code",
   "execution_count": 6,
   "metadata": {},
   "outputs": [],
   "source": [
    "budget = 200\n",
    "\n",
    "can = SpecialRandomBuyer('Buyer Can', budget)\n",
    "cem = SpecialRandomBuyer('Buyer Cem', budget)\n",
    "bora = SpecialRandomBuyer('Buyer Bora', budget)\n",
    "ozan = SpecialRandomBuyer('Buyer Ozan', budget)\n",
    "utku = SpecialRandomBuyer('Buyer Utku', budget)\n",
    "\n",
    "# You can disclude \"can\" and use q_table_competitive or include him and use q_table if you want to test the competitive environment.\n",
    "buyers = [can,cem,bora,ozan,utku] "
   ]
  },
  {
   "cell_type": "markdown",
   "metadata": {},
   "source": [
    "Now lets prepare our environment\n",
    "First let's load an information setting\n",
    "then let's load a matcher\n"
   ]
  },
  {
   "cell_type": "code",
   "execution_count": 7,
   "metadata": {},
   "outputs": [],
   "source": [
    "from info_settings import BlackBoxSetting\n",
    "from matchers import RandomMatcher"
   ]
  },
  {
   "cell_type": "markdown",
   "metadata": {},
   "source": [
    "Now let's create the environment, and be careful because now I am using a reward scheme based on reservation price. Is this scheme better for my research goal? If yes why?"
   ]
  },
  {
   "cell_type": "code",
   "execution_count": 8,
   "metadata": {},
   "outputs": [],
   "source": [
    "market_env = MarketEnvironment(sellers=sellers, buyers=buyers, max_steps=10,  \n",
    "                               matcher=RandomMatcher(reward_on_reference=True), setting=BlackBoxSetting)\n",
    "\n"
   ]
  },
  {
   "cell_type": "markdown",
   "metadata": {},
   "source": [
    "Now let's run a single step, deciding offers for all agents:\n",
    "first we clean the environment, just in case\n",
    "everything should be zeroes."
   ]
  },
  {
   "cell_type": "code",
   "execution_count": 9,
   "metadata": {},
   "outputs": [],
   "source": [
    "init_observation = market_env.reset()"
   ]
  },
  {
   "cell_type": "code",
   "execution_count": 10,
   "metadata": {},
   "outputs": [],
   "source": [
    "# Hyperparameters\n",
    "alpha = 0.35\n",
    "gamma = 0.9\n",
    "epsilon = 0 # we are not using it right now because we have a bool for training or test mode for training epsilon is 1 for test 0\n",
    "boolean_training = True # This should be True for training and false for testing"
   ]
  },
  {
   "cell_type": "code",
   "execution_count": 11,
   "metadata": {},
   "outputs": [],
   "source": [
    "q_table = np.zeros((21,3)) # This should only be run for a new training"
   ]
  },
  {
   "cell_type": "code",
   "execution_count": 57,
   "metadata": {},
   "outputs": [],
   "source": [
    "# q_table = np.loadtxt('q_table_profiling.txt') # This can be used for later testing."
   ]
  },
  {
   "cell_type": "code",
   "execution_count": 12,
   "metadata": {},
   "outputs": [
    {
     "name": "stdout",
     "output_type": "stream",
     "text": [
      "Time passed: 155 seconds.\n"
     ]
    }
   ],
   "source": [
    "# measure time\n",
    "start_time = time.time()\n",
    "\n",
    "# in order to get the total rewards at the end\n",
    "list_of_rewards = {}\n",
    "normalized_list_of_rewards = {}\n",
    "\n",
    "# initialize them with 0 rewards\n",
    "for buyer in buyers:\n",
    "        list_of_rewards[buyer.agent_id] = 0\n",
    "\n",
    "for seller in sellers:\n",
    "        list_of_rewards[seller.agent_id] = 0\n",
    "\n",
    "# number of games\n",
    "# For Training optimal is 1000 and for testing between 30-50 is good number.\n",
    "for i in range (0,500):\n",
    "    \n",
    "    init_observation = market_env.reset()\n",
    "    \n",
    "\n",
    "    # number of rounds    \n",
    "    while market_env.time < 10 and market_env.done:\n",
    "        \n",
    "        if random.uniform(0, 1) < epsilon:\n",
    "            boolean = True\n",
    "        else:\n",
    "            boolean = False\n",
    "\n",
    "        # dictionary of the actions in current state\n",
    "        actions = {}        \n",
    "        \n",
    "        # in order to update the rl agent save the previous offer and action in order to update the q table\n",
    "        last_offer, action = ali.update_offer(actions, \n",
    "                                              market_env.setting.get_state(ali.agent_id ,market_env.agents,market_env.deal_history,market_env.offers), \n",
    "                                              q_table, boolean_training)\n",
    "        # get all the other agents' actions\n",
    "        for agent in buyers:\n",
    "            agent.update_offer(actions, market_env.setting.get_state(agent.agent_id, market_env.agents, market_env.deal_history, market_env.offers))\n",
    "        for agent in other_sellers:\n",
    "            agent.update_offer(actions, market_env.setting.get_state(agent.agent_id, market_env.agents, market_env.deal_history, market_env.offers))\n",
    "       \n",
    "        # play one step\n",
    "        observations, rewards, done, _ = market_env.step(actions)\n",
    "        \n",
    "        # get cumulitive rewards\n",
    "        for buyer in buyers:\n",
    "            list_of_rewards[buyer.agent_id] = list_of_rewards.get(buyer.agent_id,0) + rewards.get(buyer.agent_id,0)\n",
    "            \n",
    "        for seller in sellers:\n",
    "            list_of_rewards[seller.agent_id] = list_of_rewards.get(seller.agent_id,0) + rewards.get(seller.agent_id,0)\n",
    "        \n",
    "        # find the next action of the rl agent\n",
    "        next_state = market_env.setting.get_state(ali.agent_id ,market_env.agents,market_env.deal_history,market_env.offers)\n",
    "        \n",
    "        # get the old_value to calculate the new one\n",
    "        old_value = q_table[int((last_offer-100)/5), int(action)]\n",
    "        next_max = np.max(q_table[int((next_state-100)/5)])\n",
    "        \n",
    "        # if training mode update q table else don't\n",
    "        if boolean_training: \n",
    "            new_value = (1 - alpha) * old_value + alpha * (rewards.get(ali.agent_id,0) + gamma * next_max)\n",
    "            q_table[int((last_offer-100)/5), int(action)] = new_value\n",
    "\n",
    "if not boolean_training:\n",
    "    # get the normalized rewards\n",
    "    for buyer in buyers:\n",
    "        normalized_list_of_rewards[buyer.agent_id] = list_of_rewards.get(buyer.agent_id,0)/list_of_rewards.get(ali.agent_id,0)\n",
    "\n",
    "    for seller in sellers:\n",
    "        normalized_list_of_rewards[seller.agent_id] = list_of_rewards.get(seller.agent_id,0)/list_of_rewards.get(ali.agent_id,0)\n",
    "\n",
    "    # display last game\n",
    "    display(pd.DataFrame(market_env.deal_history))\n",
    "\n",
    "    # display the rewards\n",
    "    display(list_of_rewards)\n",
    "    display(normalized_list_of_rewards)\n",
    "    average_reward_rest = 0\n",
    "    for seller in other_sellers:\n",
    "        average_reward_rest += normalized_list_of_rewards.get(seller.agent_id,0)\n",
    "    average_reward_rest = average_reward_rest / np.size(other_sellers)\n",
    "    print(\"This is the average performance increase: \" + str(int((normalized_list_of_rewards.get(ali.agent_id,0)/average_reward_rest - 1) * 100)) + '%')\n",
    "\n",
    "# print the elapsed time\n",
    "elapsed_time = time.time() - start_time\n",
    "print(\"Time passed: \" + str(int(elapsed_time)) + \" seconds.\")\n",
    "        \n",
    "        "
   ]
  },
  {
   "cell_type": "code",
   "execution_count": 13,
   "metadata": {},
   "outputs": [
    {
     "data": {
      "text/plain": [
       "array([[  0.        ,   0.        ,   0.        ],\n",
       "       [  0.        ,   0.        ,  78.19853282],\n",
       "       [  0.        ,   0.        ,   0.        ],\n",
       "       [  3.29805267,   3.61974401,   8.59617513],\n",
       "       [  4.4648115 ,   9.26981443,   6.93483123],\n",
       "       [  8.44618064,   7.78276435,   8.48949305],\n",
       "       [ 10.68447386,  10.81842653,  18.39601211],\n",
       "       [ 32.18648702,  34.67072685,  36.5531265 ],\n",
       "       [ 43.63479399,  57.39346271,  54.40948708],\n",
       "       [ 51.24558438,  54.931247  ,  56.93380763],\n",
       "       [ 53.40177109,  50.92821857,  61.88376618],\n",
       "       [ 34.68057352,  62.78765731,  84.74125201],\n",
       "       [ 58.25079578,  70.49048257,  60.24895388],\n",
       "       [ 77.33288039,  68.97423679,  80.77097819],\n",
       "       [ 81.5669193 ,  83.23518014, 100.9226813 ],\n",
       "       [ 72.01039734,  88.54348207,  92.82617847],\n",
       "       [ 49.72531892,  85.0652135 ,  76.79447848],\n",
       "       [ 84.77274941,  78.65990375,  80.02710921],\n",
       "       [113.05280745,  79.64830038,  91.52931743],\n",
       "       [ 90.72561559,  90.88143905,  83.72983038],\n",
       "       [ 86.04147597,  82.77663946,  78.27251064]])"
      ]
     },
     "metadata": {},
     "output_type": "display_data"
    }
   ],
   "source": [
    "# np.savetxt('q_table_profiling.txt', q_table)\n",
    "display(q_table)"
   ]
  },
  {
   "cell_type": "code",
   "execution_count": 55,
   "metadata": {},
   "outputs": [
    {
     "data": {
      "text/plain": [
       "<matplotlib.image.AxesImage at 0x7fcdadd35690>"
      ]
     },
     "execution_count": 55,
     "metadata": {},
     "output_type": "execute_result"
    },
    {
     "data": {
      "image/png": "[encoded data removed]",
      "text/plain": [
       "<Figure size 432x288 with 1 Axes>"
      ]
     },
     "metadata": {
      "needs_background": "light"
     },
     "output_type": "display_data"
    }
   ],
   "source": [
    "plt.imshow(q_table)"
   ]
  },
  {
   "cell_type": "code",
   "execution_count": 59,
   "metadata": {},
   "outputs": [
    {
     "data": {
      "text/html": [
       "<div>\n",
       "<style scoped>\n",
       "    .dataframe tbody tr th:only-of-type {\n",
       "        vertical-align: middle;\n",
       "    }\n",
       "\n",
       "    .dataframe tbody tr th {\n",
       "        vertical-align: top;\n",
       "    }\n",
       "\n",
       "    .dataframe thead th {\n",
       "        text-align: right;\n",
       "    }\n",
       "</style>\n",
       "<table border=\"1\" class=\"dataframe\">\n",
       "  <thead>\n",
       "    <tr style=\"text-align: right;\">\n",
       "      <th></th>\n",
       "      <th>Seller</th>\n",
       "      <th>Buyer</th>\n",
       "      <th>time</th>\n",
       "      <th>deal_price</th>\n",
       "    </tr>\n",
       "  </thead>\n",
       "  <tbody>\n",
       "    <tr>\n",
       "      <th>0</th>\n",
       "      <td>Seller Ayse</td>\n",
       "      <td>Buyer Bora</td>\n",
       "      <td>3</td>\n",
       "      <td>145.666907</td>\n",
       "    </tr>\n",
       "    <tr>\n",
       "      <th>1</th>\n",
       "      <td>Seller Ali</td>\n",
       "      <td>Buyer Utku</td>\n",
       "      <td>4</td>\n",
       "      <td>148.660516</td>\n",
       "    </tr>\n",
       "    <tr>\n",
       "      <th>2</th>\n",
       "      <td>Seller Ahmet</td>\n",
       "      <td>Buyer Ozan</td>\n",
       "      <td>4</td>\n",
       "      <td>148.439210</td>\n",
       "    </tr>\n",
       "    <tr>\n",
       "      <th>3</th>\n",
       "      <td>Seller Fatma</td>\n",
       "      <td>Buyer Cem</td>\n",
       "      <td>5</td>\n",
       "      <td>144.454865</td>\n",
       "    </tr>\n",
       "  </tbody>\n",
       "</table>\n",
       "</div>"
      ],
      "text/plain": [
       "         Seller       Buyer  time  deal_price\n",
       "0   Seller Ayse  Buyer Bora     3  145.666907\n",
       "1    Seller Ali  Buyer Utku     4  148.660516\n",
       "2  Seller Ahmet  Buyer Ozan     4  148.439210\n",
       "3  Seller Fatma   Buyer Cem     5  144.454865"
      ]
     },
     "execution_count": 59,
     "metadata": {},
     "output_type": "execute_result"
    }
   ],
   "source": [
    "pd.DataFrame(market_env.deal_history)"
   ]
  },
  {
   "cell_type": "markdown",
   "metadata": {},
   "source": [
    "and the history of offers"
   ]
  },
  {
   "cell_type": "code",
   "execution_count": 60,
   "metadata": {},
   "outputs": [
    {
     "data": {
      "text/html": [
       "<div>\n",
       "<style scoped>\n",
       "    .dataframe tbody tr th:only-of-type {\n",
       "        vertical-align: middle;\n",
       "    }\n",
       "\n",
       "    .dataframe tbody tr th {\n",
       "        vertical-align: top;\n",
       "    }\n",
       "\n",
       "    .dataframe thead th {\n",
       "        text-align: right;\n",
       "    }\n",
       "</style>\n",
       "<table border=\"1\" class=\"dataframe\">\n",
       "  <thead>\n",
       "    <tr style=\"text-align: right;\">\n",
       "      <th></th>\n",
       "      <th>id</th>\n",
       "      <th>res_price</th>\n",
       "      <th>role</th>\n",
       "      <th>offer</th>\n",
       "      <th>time</th>\n",
       "    </tr>\n",
       "  </thead>\n",
       "  <tbody>\n",
       "    <tr>\n",
       "      <th>0</th>\n",
       "      <td>Seller Ali</td>\n",
       "      <td>100</td>\n",
       "      <td>Seller</td>\n",
       "      <td>140.000000</td>\n",
       "      <td>4</td>\n",
       "    </tr>\n",
       "    <tr>\n",
       "      <th>1</th>\n",
       "      <td>Seller Mehmet</td>\n",
       "      <td>100</td>\n",
       "      <td>Seller</td>\n",
       "      <td>122.632084</td>\n",
       "      <td>9</td>\n",
       "    </tr>\n",
       "    <tr>\n",
       "      <th>2</th>\n",
       "      <td>Seller Ahmet</td>\n",
       "      <td>100</td>\n",
       "      <td>Seller</td>\n",
       "      <td>144.469557</td>\n",
       "      <td>4</td>\n",
       "    </tr>\n",
       "    <tr>\n",
       "      <th>3</th>\n",
       "      <td>Seller Ayse</td>\n",
       "      <td>100</td>\n",
       "      <td>Seller</td>\n",
       "      <td>140.036993</td>\n",
       "      <td>3</td>\n",
       "    </tr>\n",
       "    <tr>\n",
       "      <th>4</th>\n",
       "      <td>Seller Fatma</td>\n",
       "      <td>100</td>\n",
       "      <td>Seller</td>\n",
       "      <td>133.555044</td>\n",
       "      <td>5</td>\n",
       "    </tr>\n",
       "    <tr>\n",
       "      <th>5</th>\n",
       "      <td>Buyer Cem</td>\n",
       "      <td>200</td>\n",
       "      <td>Buyer</td>\n",
       "      <td>150.063340</td>\n",
       "      <td>5</td>\n",
       "    </tr>\n",
       "    <tr>\n",
       "      <th>6</th>\n",
       "      <td>Buyer Bora</td>\n",
       "      <td>200</td>\n",
       "      <td>Buyer</td>\n",
       "      <td>146.363150</td>\n",
       "      <td>3</td>\n",
       "    </tr>\n",
       "    <tr>\n",
       "      <th>7</th>\n",
       "      <td>Buyer Ozan</td>\n",
       "      <td>200</td>\n",
       "      <td>Buyer</td>\n",
       "      <td>150.339749</td>\n",
       "      <td>4</td>\n",
       "    </tr>\n",
       "    <tr>\n",
       "      <th>8</th>\n",
       "      <td>Buyer Utku</td>\n",
       "      <td>200</td>\n",
       "      <td>Buyer</td>\n",
       "      <td>152.098213</td>\n",
       "      <td>4</td>\n",
       "    </tr>\n",
       "  </tbody>\n",
       "</table>\n",
       "</div>"
      ],
      "text/plain": [
       "              id  res_price    role       offer  time\n",
       "0     Seller Ali        100  Seller  140.000000     4\n",
       "1  Seller Mehmet        100  Seller  122.632084     9\n",
       "2   Seller Ahmet        100  Seller  144.469557     4\n",
       "3    Seller Ayse        100  Seller  140.036993     3\n",
       "4   Seller Fatma        100  Seller  133.555044     5\n",
       "5      Buyer Cem        200   Buyer  150.063340     5\n",
       "6     Buyer Bora        200   Buyer  146.363150     3\n",
       "7     Buyer Ozan        200   Buyer  150.339749     4\n",
       "8     Buyer Utku        200   Buyer  152.098213     4"
      ]
     },
     "execution_count": 60,
     "metadata": {},
     "output_type": "execute_result"
    }
   ],
   "source": [
    "market_env.offers"
   ]
  },
  {
   "cell_type": "code",
   "execution_count": null,
   "metadata": {},
   "outputs": [],
   "source": []
  }
 ],
 "metadata": {
  "kernelspec": {
   "display_name": "abmsss",
   "language": "python",
   "name": "abmsss"
  },
  "language_info": {
   "codemirror_mode": {
    "name": "ipython",
    "version": 3
   },
   "file_extension": ".py",
   "mimetype": "text/x-python",
   "name": "python",
   "nbconvert_exporter": "python",
   "pygments_lexer": "ipython3",
   "version": "3.7.4"
  }
 },
 "nbformat": 4,
 "nbformat_minor": 2
}
